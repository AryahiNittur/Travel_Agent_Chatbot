{
 "cells": [
  {
   "cell_type": "markdown",
   "id": "4de4b86d-05ee-4d65-a5d5-9c716dea65bf",
   "metadata": {},
   "source": [
    "Mini Project: Intelligent Travel Planning Chatbot\n",
    "In this project, you will build an intelligent, multi-turn chatbot that helps users plan a customized trip through conversation. The chatbot should be able to guide the user step-by-step, collect important travel information, and finally generate a structured travel plan in JSON format.\n",
    "\n",
    "The goal is not just to create a chatbot that replies — but one that follows a conversational flow, knows when to stop asking questions, and return a structured output that can be reused or integrated into other systems."
   ]
  },
  {
   "cell_type": "code",
   "execution_count": 10,
   "id": "579a1555-34f2-49da-a2f4-d2c19b449002",
   "metadata": {},
   "outputs": [],
   "source": [
    "import os\n",
    "import getpass\n",
    "import json\n",
    "from pprint import pprint\n",
    "from typing import Sequence, List\n",
    "from typing_extensions import Annotated, TypedDict"
   ]
  },
  {
   "cell_type": "code",
   "execution_count": 11,
   "id": "d27ec230-3084-4a09-a97a-b1dffb014341",
   "metadata": {},
   "outputs": [],
   "source": [
    "from langchain_core.prompts import ChatPromptTemplate, MessagesPlaceholder\n",
    "from langchain_core.output_parsers import PydanticOutputParser\n",
    "from langchain.chat_models import init_chat_model\n",
    "from langgraph.graph import StateGraph\n",
    "from langgraph.graph.message import add_messages\n",
    "from langgraph.checkpoint.memory import MemorySaver\n",
    "from pydantic import BaseModel\n",
    "\n",
    "from langchain_core.messages import (\n",
    "    AIMessage,\n",
    "    BaseMessage,\n",
    "    HumanMessage,\n",
    "    SystemMessage,\n",
    "    trim_messages,\n",
    ")"
   ]
  },
  {
   "cell_type": "code",
   "execution_count": 12,
   "id": "bd04fe95-8e81-472a-b206-29f06ecc0265",
   "metadata": {},
   "outputs": [
    {
     "name": "stdin",
     "output_type": "stream",
     "text": [
      "Enter your OpenAI API key:  ········\n"
     ]
    }
   ],
   "source": [
    "if not os.environ.get(\"OPENAI_API_KEY\"):\n",
    "    os.environ[\"OPENAI_API_KEY\"] = getpass.getpass(\"Enter your OpenAI API key: \")"
   ]
  },
  {
   "cell_type": "code",
   "execution_count": 13,
   "id": "b3778ba3-fb43-4d7e-8e37-fd7464ddef5a",
   "metadata": {},
   "outputs": [],
   "source": [
    "class TravelPlan(BaseModel):\n",
    "  destination: str\n",
    "  date: str\n",
    "  budget: str\n",
    "  preferences: List[str]\n",
    "  itinerary_suggestions: List[str]  # AI-generated itinerary suggestions\n",
    "  travel_tips: List[str]            # AI-generated travel tips"
   ]
  },
  {
   "cell_type": "code",
   "execution_count": 14,
   "id": "47e75c4a-426f-4bc2-a388-c9a2446d6098",
   "metadata": {},
   "outputs": [],
   "source": [
    "python_output_parser = PydanticOutputParser(pydantic_object=TravelPlan)"
   ]
  },
  {
   "cell_type": "code",
   "execution_count": 17,
   "id": "8ce08433-2ebf-48c1-bb50-6ce1eb6eb437",
   "metadata": {},
   "outputs": [],
   "source": [
    "trimmer = trim_messages(\n",
    "    max_tokens=7000,\n",
    "    strategy=\"last\",\n",
    "    token_counter= init_chat_model(\"gpt-4o\", model_provider=\"openai\", streaming=True),\n",
    "    include_system=True,\n",
    "    allow_partial=False,\n",
    "    start_on=\"human\",\n",
    ")"
   ]
  },
  {
   "cell_type": "code",
   "execution_count": 23,
   "id": "5cd4df50-73a7-4066-8048-ffa6099601c9",
   "metadata": {},
   "outputs": [],
   "source": [
    "format_instructions = python_output_parser.get_format_instructions().replace(\"{\", \"{{\").replace(\"}\", \"}}\")\n",
    "\n",
    "\n",
    "system_prompt = f\"\"\"\n",
    "You are a helpful travel planning assistant.\n",
    "\n",
    "## Objective:\n",
    "Guide the user through a short conversation to collect the following four details, one at a time, in order to create a personalized travel plan:\n",
    "1. Destination\n",
    "2. Travel Date\n",
    "3. Budget\n",
    "4. Preferences (e.g., food, museums, nature, shopping, culture)\n",
    "\n",
    "## Interaction Guidelines:\n",
    "- Be friendly and concise.\n",
    "- Ask one question at a time.\n",
    "- Wait for the user's response before moving to the next question.\n",
    "- If an answer is unclear or incomplete, ask for clarification or rephrase.\n",
    "\n",
    "## Memory Rules:\n",
    "- Keep track of which details are already provided.\n",
    "- Do not ask for the same information twice.\n",
    "\n",
    "## Completion Steps:\n",
    "When all four details are collected:\n",
    "1. Summarize the gathered information.\n",
    "2. Ask if the user wants to revise anything.\n",
    "3. If confirmed, generate a travel plan strictly in the format below:\n",
    "\n",
    "Respond ONLY with a valid JSON object using this structure:\n",
    "\n",
    "{format_instructions}\n",
    "\n",
    "## Notes:\n",
    "- Do not include any explanation or text outside the JSON object.\n",
    "- If the user hasn’t finished, continue the conversation accordingly.\n",
    "\"\"\""
   ]
  },
  {
   "cell_type": "code",
   "execution_count": 24,
   "id": "6d88cf2c-e429-46ec-9691-9113a3dea7ff",
   "metadata": {},
   "outputs": [],
   "source": [
    "prompt_template = ChatPromptTemplate.from_messages([\n",
    "    (\"system\", system_prompt),\n",
    "    MessagesPlaceholder(variable_name=\"messages\"),\n",
    "])"
   ]
  },
  {
   "cell_type": "code",
   "execution_count": null,
   "id": "70d59375-8776-49ab-b41e-1c99a291d7ab",
   "metadata": {},
   "outputs": [
    {
     "name": "stdout",
     "output_type": "stream",
     "text": [
      "Travel Planning Chatbot\n",
      "\n",
      "\n",
      "AI: Hi there! To help you create a personalized travel plan, can you first tell me your desired destination?\n"
     ]
    },
    {
     "name": "stdin",
     "output_type": "stream",
     "text": [
      "\n",
      "You:  Mysore\n"
     ]
    },
    {
     "name": "stdout",
     "output_type": "stream",
     "text": [
      "\n",
      "AI: Great choice! When are you planning to travel to Mysore?\n"
     ]
    },
    {
     "name": "stdin",
     "output_type": "stream",
     "text": [
      "\n",
      "You:  Next week\n"
     ]
    },
    {
     "name": "stdout",
     "output_type": "stream",
     "text": [
      "\n",
      "AI: Sounds exciting! Could you let me know your budget for the trip?\n"
     ]
    },
    {
     "name": "stdin",
     "output_type": "stream",
     "text": [
      "\n",
      "You:  20k\n"
     ]
    },
    {
     "name": "stdout",
     "output_type": "stream",
     "text": [
      "\n",
      "AI: Thank you! Lastly, could you share your preferences? For example, are you interested in food, museums, nature, shopping, or culture?\n"
     ]
    },
    {
     "name": "stdin",
     "output_type": "stream",
     "text": [
      "\n",
      "You:  experiences. and fancy hotels\n"
     ]
    },
    {
     "name": "stdout",
     "output_type": "stream",
     "text": [
      "\n",
      "AI: Great! Here’s a summary of your travel plan:\n",
      "\n",
      "- **Destination:** Mysore\n",
      "- **Travel Date:** Next week\n",
      "- **Budget:** 20k\n",
      "- **Preferences:** Experiences, Fancy hotels\n",
      "\n",
      "Would you like to revise any of these details before I create your travel plan?\n"
     ]
    },
    {
     "name": "stdin",
     "output_type": "stream",
     "text": [
      "\n",
      "You:  no\n"
     ]
    },
    {
     "name": "stdout",
     "output_type": "stream",
     "text": [
      "\n",
      "AI: ```json\n",
      "{\n",
      "    \"destination\": \"Mysore\",\n",
      "    \"date\": \"Next week\",\n",
      "    \"budget\": \"20k\",\n",
      "    \"preferences\": [\"Experiences\", \"Fancy hotels\"],\n",
      "    \"itinerary_suggestions\": [\n",
      "        \"Visit the Mysore Palace and witness its grandeur.\",\n",
      "        \"Experience a luxurious stay at a heritage hotel like the Lalitha Mahal Palace.\",\n",
      "        \"Indulge in a traditional Mysorean meal at a renowned local restaurant.\",\n",
      "        \"Explore the beautiful Brindavan Gardens during the evening light show.\",\n",
      "        \"Visit Chamundi Hill for a panoramic view of the city.\"\n",
      "    ],\n",
      "    \"travel_tips\": [\n",
      "        \"Book your hotels in advance to secure the best deals.\",\n",
      "        \"Consider hiring a local guide for a more in-depth experience.\",\n",
      "        \"Try local sweets like Mysore Pak at popular sweet shops.\",\n",
      "        \"Use apps like Ola or Uber for convenient travel within the city.\",\n",
      "        \"Check"
     ]
    }
   ],
   "source": [
    "# LangGraph state schema\n",
    "class State(TypedDict):\n",
    "    messages: Annotated[Sequence[BaseMessage], add_messages]\n",
    "\n",
    "# Node logic that streams output and checks for final response\n",
    "def call_model(state: State):\n",
    "    trimmed = trimmer.invoke(state[\"messages\"])\n",
    "    prompt = prompt_template.invoke({\"messages\": trimmed})\n",
    "    chunks = init_chat_model(\"gpt-4o\", model_provider=\"openai\", streaming=True).stream(prompt)\n",
    "    final = \"\"\n",
    "    print(\"\\nAI:\", end=\" \", flush=True)\n",
    "    for chunk in chunks:\n",
    "        if isinstance(chunk, AIMessage):\n",
    "            print(chunk.content, end=\"\", flush=True)\n",
    "            final += chunk.content\n",
    "    print()\n",
    "    return {\"messages\": [AIMessage(content=final)]}\n",
    "\n",
    "# Build LangGraph\n",
    "workflow = StateGraph(state_schema=State)\n",
    "workflow.add_node(\"model\", call_model)\n",
    "workflow.set_entry_point(\"model\")\n",
    "\n",
    "# Memory management\n",
    "memory = MemorySaver()\n",
    "app = workflow.compile(checkpointer=memory)\n",
    "\n",
    "# Conversation initialization\n",
    "conversation = [SystemMessage(content=system_prompt)]\n",
    "config = {\"configurable\": {\"thread_id\": \"travel123\"}}\n",
    "\n",
    "# All above steps are set up, now we can start the interactive conversation.\n",
    "print(\"Travel Planning Chatbot\\n\")\n",
    "\n",
    "# Assistant greeting\n",
    "result = app.invoke({\"messages\": conversation}, config=config)\n",
    "assistant_response = result[\"messages\"][-1]\n",
    "conversation.append(assistant_response)\n",
    "\n",
    "# Interactive loop\n",
    "while True:\n",
    "    user_input = input(\"\\nYou: \")\n",
    "    conversation.append(HumanMessage(content=user_input))\n",
    "    result = app.invoke({\"messages\": conversation}, config=config)\n",
    "    assistant_response = result[\"messages\"][-1]\n",
    "    conversation.append(assistant_response)\n",
    "\n",
    "    try:\n",
    "        # Try to parse the final response\n",
    "        travel_plan = output_parser.invoke(assistant_response.content)\n",
    "\n",
    "        print(\"\\nFinal Structured Travel Plan:\")\n",
    "        pprint(travel_plan.model_dump(), sort_dicts=False, compact=True)\n",
    "\n",
    "        # Save as JSON\n",
    "        with open(\"travel_plan.json\", \"w\", encoding=\"utf-8\") as f:\n",
    "            json.dump(travel_plan.model_dump(), f, indent=2, ensure_ascii=False)\n",
    "        print(\"\\nTravel plan saved to 'travel_plan.json'\")\n",
    "        break\n",
    "\n",
    "    except Exception:\n",
    "        # Not a structured response yet, continue conversation\n",
    "        continue"
   ]
  },
  {
   "cell_type": "code",
   "execution_count": null,
   "id": "1596d2ec-5f4b-4ebf-9d5a-235e8e1f365f",
   "metadata": {},
   "outputs": [],
   "source": []
  }
 ],
 "metadata": {
  "kernelspec": {
   "display_name": "Python 3 (ipykernel)",
   "language": "python",
   "name": "python3"
  },
  "language_info": {
   "codemirror_mode": {
    "name": "ipython",
    "version": 3
   },
   "file_extension": ".py",
   "mimetype": "text/x-python",
   "name": "python",
   "nbconvert_exporter": "python",
   "pygments_lexer": "ipython3",
   "version": "3.9.16"
  }
 },
 "nbformat": 4,
 "nbformat_minor": 5
}
